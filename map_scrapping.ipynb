{
 "cells": [
  {
   "cell_type": "code",
   "execution_count": 1,
   "metadata": {},
   "outputs": [],
   "source": [
    "from selenium import webdriver\n",
    "from selenium.webdriver.common.keys import Keys\n",
    "import pyperclip as pc\n",
    "import pandas as pd\n",
    "import re\n",
    "import time"
   ]
  },
  {
   "cell_type": "code",
   "execution_count": 2,
   "metadata": {},
   "outputs": [],
   "source": [
    "# url cleansing function to get coordinate\n",
    "def getCoordinate(url):\n",
    "    x = re.search(\"(?<=@).*(?=,)\", url)\n",
    "    return x.group()\n",
    "\n",
    "# get all searching results function\n",
    "def getResults(results, name, address, coordinate):\n",
    "    for x in range(len(results)):\n",
    "        result = driver.find_element_by_xpath('//div[@class=\"section-result\"]['+ str(x + 1) + \"]\")\n",
    "        result.click()\n",
    "        time.sleep(2)\n",
    "        \n",
    "        try: # check is there full address\n",
    "            address_txt = driver.find_element_by_xpath('//img[@alt=\"Salin alamat\"]')\n",
    "        except:\n",
    "            getAddress()\n",
    "        else:\n",
    "            name_txt = driver.find_element_by_xpath('//h1/span[1]')\n",
    "            address_txt = driver.find_element_by_xpath('//img[@alt=\"Salin alamat\"]')\n",
    "            back_btn = driver.find_element_by_xpath('//span[contains(text(),\"Kembali ke hasil\")]')\n",
    "\n",
    "            zoomIn()\n",
    "            address_txt.click()\n",
    "\n",
    "            # save to list\n",
    "            name.append(name_txt.text)\n",
    "            address.append(pc.paste())\n",
    "            coordinate.append(getCoordinate(driver.current_url))\n",
    "\n",
    "            back_btn.click()\n",
    "            time.sleep(2)\n",
    "    return name, address, coordinate\n",
    "\n",
    "# get address function when it can't copying to clipboard\n",
    "def getAddress(name, address, coordinate):\n",
    "    try:\n",
    "        place_info = driver.find_elements_by_xpath('//h2/span')\n",
    "    except:\n",
    "        driver.back()\n",
    "    else:\n",
    "        name_txt = driver.find_element_by_xpath('//h1/span[1]')\n",
    "\n",
    "        name.append(name_txt.text)\n",
    "        address.append((', ').join(list(map(lambda i : i.text, place_info))))\n",
    "        coordinate.append(getCoordinate(driver.current_url))\n",
    "\n",
    "        driver.back()\n",
    "        driver.back()\n",
    "        time.sleep(2)\n",
    "    return name, address, coordinate\n",
    "\n",
    "# zoom-in function\n",
    "def zoomIn():\n",
    "    zoom_btn = driver.find_element_by_xpath('//button[@id=\"widget-zoom-in\"]')\n",
    "    while (zoom_btn.get_attribute('disabled') != 'true'):\n",
    "        zoom_btn.click()"
   ]
  },
  {
   "cell_type": "code",
   "execution_count": 3,
   "metadata": {},
   "outputs": [],
   "source": [
    "# scrapping function\n",
    "def scrappingMaps(areas, keyword):\n",
    "    name = []\n",
    "    address = []\n",
    "    coordinate = []\n",
    "    \n",
    "    # open webdriver\n",
    "    driver = webdriver.Firefox()\n",
    "    driver.get('http://www.google.com/maps')\n",
    "\n",
    "    for area in areas:\n",
    "        search_box = driver.find_element_by_id('searchboxinput')\n",
    "        submit_button = driver.find_element_by_id('searchbox-searchbutton')\n",
    "\n",
    "        search_box.clear()\n",
    "        search_box.send_keys(area)\n",
    "        search_box.send_keys(Keys.ENTER)\n",
    "        time.sleep(5)\n",
    "        search_box.clear()\n",
    "        search_box.send_keys(keyword)\n",
    "        search_box.send_keys(Keys.ENTER)\n",
    "        time.sleep(5)\n",
    "        \n",
    "        # get search results\n",
    "        results = driver.find_elements_by_xpath('//div[@class=\"section-result\"]')\n",
    "\n",
    "        if len(results) != 0:\n",
    "            next_btn = driver.find_element_by_xpath('//button[@aria-label=\"Halaman berikutnya\"]')\n",
    "            \n",
    "            # loop while next button undisable\n",
    "            while (next_btn.get_attribute('disabled') != True):\n",
    "                results = driver.find_elements_by_xpath('//div[@class=\"section-result\"]')\n",
    "                getResults(results, name, address, coordinate)\n",
    "\n",
    "                next_btn = driver.find_element_by_xpath('//button[@aria-label=\"Halaman berikutnya\"]')\n",
    "                next_btn.click()\n",
    "                time.sleep(3)\n",
    "\n",
    "        else: # if no result\n",
    "            try: # check is there full address\n",
    "                address_txt = driver.find_element_by_xpath('//img[@alt=\"Salin alamat\"]')\n",
    "            except:\n",
    "                getAddress(name, address, coordinate)\n",
    "            else:\n",
    "                name_txt = driver.find_element_by_xpath('//h1/span[1]')\n",
    "                address_txt = driver.find_element_by_xpath('//img[@alt=\"Salin alamat\"]')\n",
    "\n",
    "                zoomIn()\n",
    "                address_txt.click()\n",
    "\n",
    "                name.append(name_txt.text)\n",
    "                address.append(pc.paste())\n",
    "                coordinate.append(getCoordinate(driver.current_url))\n",
    "\n",
    "                driver.back()\n",
    "                driver.back()\n",
    "                time.sleep(2)\n",
    "    \n",
    "    # close webdriver\n",
    "    driver.close()\n",
    "    \n",
    "    # storing scrapped data\n",
    "    data = {'Name' : name, 'Address': address, 'Coordinate':coordinate}\n",
    "    return data"
   ]
  },
  {
   "cell_type": "code",
   "execution_count": 5,
   "metadata": {},
   "outputs": [
    {
     "data": {
      "text/plain": [
       "{'Name': ['Dahlia Loka', 'Jl. Graha Raya Dahlia Loka'],\n",
       " 'Address': ['Blok RB 04, Jl. Graha Raya Dahlia Loka No.07, Pd. Jagung Tim., Kec. Serpong Utara, Kota Tangerang Selatan, Banten 15326',\n",
       "  'Pd. Jagung Tim., Kec. Serpong Utara, Kota Tangerang Selatan, Banten 15326'],\n",
       " 'Coordinate': ['-6.2447905,106.6695283', '-6.2448168,106.66655']}"
      ]
     },
     "execution_count": 5,
     "metadata": {},
     "output_type": "execute_result"
    }
   ],
   "source": [
    "# main\n",
    "areas = ['Tambun','Gunung Sindur']\n",
    "keyword = 'dahlia loka'\n",
    "\n",
    "scrapped = scrappingMaps(areas, keyword)\n",
    "scrapped"
   ]
  },
  {
   "cell_type": "code",
   "execution_count": 6,
   "metadata": {},
   "outputs": [
    {
     "data": {
      "text/html": [
       "<div>\n",
       "<style scoped>\n",
       "    .dataframe tbody tr th:only-of-type {\n",
       "        vertical-align: middle;\n",
       "    }\n",
       "\n",
       "    .dataframe tbody tr th {\n",
       "        vertical-align: top;\n",
       "    }\n",
       "\n",
       "    .dataframe thead th {\n",
       "        text-align: right;\n",
       "    }\n",
       "</style>\n",
       "<table border=\"1\" class=\"dataframe\">\n",
       "  <thead>\n",
       "    <tr style=\"text-align: right;\">\n",
       "      <th></th>\n",
       "      <th>Name</th>\n",
       "      <th>Address</th>\n",
       "      <th>Coordinate</th>\n",
       "    </tr>\n",
       "  </thead>\n",
       "  <tbody>\n",
       "    <tr>\n",
       "      <th>0</th>\n",
       "      <td>Dahlia Loka</td>\n",
       "      <td>Blok RB 04, Jl. Graha Raya Dahlia Loka No.07, ...</td>\n",
       "      <td>-6.2447905,106.6695283</td>\n",
       "    </tr>\n",
       "    <tr>\n",
       "      <th>1</th>\n",
       "      <td>Jl. Graha Raya Dahlia Loka</td>\n",
       "      <td>Pd. Jagung Tim., Kec. Serpong Utara, Kota Tang...</td>\n",
       "      <td>-6.2448168,106.66655</td>\n",
       "    </tr>\n",
       "  </tbody>\n",
       "</table>\n",
       "</div>"
      ],
      "text/plain": [
       "                         Name  \\\n",
       "0                 Dahlia Loka   \n",
       "1  Jl. Graha Raya Dahlia Loka   \n",
       "\n",
       "                                             Address              Coordinate  \n",
       "0  Blok RB 04, Jl. Graha Raya Dahlia Loka No.07, ...  -6.2447905,106.6695283  \n",
       "1  Pd. Jagung Tim., Kec. Serpong Utara, Kota Tang...    -6.2448168,106.66655  "
      ]
     },
     "execution_count": 6,
     "metadata": {},
     "output_type": "execute_result"
    }
   ],
   "source": [
    "# print dataframe\n",
    "df = pd.DataFrame(scrapped)\n",
    "df"
   ]
  },
  {
   "cell_type": "code",
   "execution_count": 9,
   "metadata": {},
   "outputs": [],
   "source": [
    "# save to csv\n",
    "# df.to_csv(keyword +'_Maps-Scrapped.csv', index = False, header = True, sep = ';')"
   ]
  },
  {
   "cell_type": "code",
   "execution_count": null,
   "metadata": {},
   "outputs": [],
   "source": []
  }
 ],
 "metadata": {
  "kernelspec": {
   "display_name": "Python 3",
   "language": "python",
   "name": "python3"
  },
  "language_info": {
   "codemirror_mode": {
    "name": "ipython",
    "version": 3
   },
   "file_extension": ".py",
   "mimetype": "text/x-python",
   "name": "python",
   "nbconvert_exporter": "python",
   "pygments_lexer": "ipython3",
   "version": "3.8.3"
  }
 },
 "nbformat": 4,
 "nbformat_minor": 4
}
